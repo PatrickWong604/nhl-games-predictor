{
 "cells": [
  {
   "cell_type": "code",
   "execution_count": 1,
   "id": "subjective-board",
   "metadata": {},
   "outputs": [],
   "source": [
    "import pandas as pd\n",
    "import requests as re\n",
    "from IPython.display import JSON"
   ]
  },
  {
   "cell_type": "code",
   "execution_count": 9,
   "id": "alien-worth",
   "metadata": {},
   "outputs": [],
   "source": [
    "sched_url = 'https://statsapi.web.nhl.com/api/v1/schedule'\n",
    "sched2019_response = re.get(sched_url,\n",
    "                       params={'season':'20192020', 'gameType': 'R','expand':'schedule.linescore'})\n",
    "sched2019_result = sched2019_response.json()"
   ]
  },
  {
   "cell_type": "code",
   "execution_count": 21,
   "id": "amazing-minimum",
   "metadata": {},
   "outputs": [],
   "source": [
    "sched_url = 'https://statsapi.web.nhl.com/api/v1/schedule'\n",
    "sched2018_response = re.get(sched_url,\n",
    "                       params={'season':'20182019', 'gameType': 'R','expand':'schedule.linescore'})\n",
    "sched2018_result = sched2018_response.json()\n",
    "sched2017_response = re.get(sched_url,\n",
    "                       params={'season':'20172018', 'gameType': 'R','expand':'schedule.linescore'})\n",
    "sched2017_result = sched2017_response.json()"
   ]
  },
  {
   "cell_type": "code",
   "execution_count": 5,
   "id": "addressed-brisbane",
   "metadata": {},
   "outputs": [],
   "source": [
    "sched_url = 'https://statsapi.web.nhl.com/api/v1/schedule'\n",
    "sched2016_response = re.get(sched_url,\n",
    "                       params={'season':'20162017', 'gameType': 'R','expand':'schedule.linescore'})\n",
    "sched2016_result = sched2016_response.json()"
   ]
  },
  {
   "cell_type": "code",
   "execution_count": 14,
   "id": "intelligent-spare",
   "metadata": {},
   "outputs": [],
   "source": [
    "sched2015_response = re.get(sched_url,\n",
    "                       params={'season':'20152016', 'gameType': 'R','expand':'schedule.linescore'})\n",
    "sched2015_result = sched2015_response.json()\n",
    "sched2014_response = re.get(sched_url,\n",
    "                       params={'season':'20142015', 'gameType': 'R','expand':'schedule.linescore'})\n",
    "sched2014_result = sched2014_response.json()\n",
    "sched2013_response = re.get(sched_url,\n",
    "                       params={'season':'20132014', 'gameType': 'R','expand':'schedule.linescore'})\n",
    "sched2013_result = sched2013_response.json()\n",
    "sched2012_response = re.get(sched_url,\n",
    "                       params={'season':'20122013', 'gameType': 'R','expand':'schedule.linescore'})\n",
    "sched2012_result = sched2012_response.json()\n",
    "sched2011_response = re.get(sched_url,\n",
    "                       params={'season':'20112012', 'gameType': 'R','expand':'schedule.linescore'})\n",
    "sched2011_result = sched2011_response.json()"
   ]
  },
  {
   "cell_type": "code",
   "execution_count": 20,
   "id": "tribal-shipping",
   "metadata": {},
   "outputs": [
    {
     "data": {
      "text/plain": [
       "<Response [200]>"
      ]
     },
     "execution_count": 20,
     "metadata": {},
     "output_type": "execute_result"
    }
   ],
   "source": [
    "sched2011_response"
   ]
  },
  {
   "cell_type": "code",
   "execution_count": 21,
   "id": "sticky-batch",
   "metadata": {},
   "outputs": [],
   "source": [
    "def season_results(result_json):\n",
    "    dates = []\n",
    "    home_team = []\n",
    "    away_team = []\n",
    "    home_score = []\n",
    "    away_score = []\n",
    "    home_wins = []\n",
    "    home_losses = []\n",
    "    home_otl = []\n",
    "    away_wins = []\n",
    "    away_losses = []\n",
    "    away_otl = []\n",
    "    periods = []\n",
    "    home_sog = []\n",
    "    away_sog = []\n",
    "    # game dates\n",
    "    for i in range(len(result_json['dates'])):\n",
    "        for j in range(len(result_json['dates'][i]['games'])):\n",
    "            dates.append(result_json['dates'][i]['date'])\n",
    "    #home team\n",
    "    for i in range(len(result_json['dates'])):\n",
    "        for j in range(len(result_json['dates'][i]['games'])):\n",
    "            home_team.append(result_json['dates'][i]['games'][j]['teams']['home']['team']['name'])\n",
    "    #away team\n",
    "    for i in range(len(result_json['dates'])):\n",
    "        for j in range(len(result_json['dates'][i]['games'])):\n",
    "            away_team.append(result_json['dates'][i]['games'][j]['teams']['away']['team']['name'])\n",
    "    #home score\n",
    "    for i in range(len(result_json['dates'])):\n",
    "        for j in range(len(result_json['dates'][i]['games'])):\n",
    "            home_score.append(result_json['dates'][i]['games'][j]['teams']['home']['score'])\n",
    "    #away score\n",
    "    for i in range(len(result_json['dates'])):\n",
    "        for j in range(len(result_json['dates'][i]['games'])):\n",
    "            away_score.append(result_json['dates'][i]['games'][j]['teams']['away']['score'])\n",
    "    # home wins\n",
    "    for i in range(len(result_json['dates'])):\n",
    "        for j in range(len(result_json['dates'][i]['games'])):\n",
    "            home_wins.append(result_json['dates'][i]['games'][j]['teams']['home']['leagueRecord']['wins'])\n",
    "    # home losses\n",
    "    for i in range(len(result_json['dates'])):\n",
    "        for j in range(len(result_json['dates'][i]['games'])):\n",
    "            home_losses.append(result_json['dates'][i]['games'][j]['teams']['home']['leagueRecord']['losses'])\n",
    "    # home otl\n",
    "    for i in range(len(result_json['dates'])):\n",
    "        for j in range(len(result_json['dates'][i]['games'])):\n",
    "            home_otl.append(result_json['dates'][i]['games'][j]['teams']['home']['leagueRecord']['ot'])\n",
    "    # away wins\n",
    "    for i in range(len(result_json['dates'])):\n",
    "        for j in range(len(result_json['dates'][i]['games'])):\n",
    "            away_wins.append(result_json['dates'][i]['games'][j]['teams']['away']['leagueRecord']['wins'])\n",
    "    # away losses\n",
    "    for i in range(len(result_json['dates'])):\n",
    "        for j in range(len(result_json['dates'][i]['games'])):\n",
    "            away_losses.append(result_json['dates'][i]['games'][j]['teams']['away']['leagueRecord']['losses'])\n",
    "    # away otl\n",
    "    for i in range(len(result_json['dates'])):\n",
    "        for j in range(len(result_json['dates'][i]['games'])):\n",
    "            away_otl.append(result_json['dates'][i]['games'][j]['teams']['away']['leagueRecord']['ot'])\n",
    "    # period the game ends on\n",
    "    for i in range(len(result_json['dates'])):\n",
    "        for j in range(len(result_json['dates'][i]['games'])):\n",
    "            periods.append(result_json['dates'][i]['games'][j]['linescore']['currentPeriodOrdinal'])\n",
    "    #home sog\n",
    "    for i in range(len(result_json['dates'])):\n",
    "        for j in range(len(result_json['dates'][i]['games'])):\n",
    "            home_sog.append(result_json['dates'][i]['games'][j]['linescore']['teams']['home']['shotsOnGoal'])\n",
    "    #away sog\n",
    "    for i in range(len(result_json['dates'])):\n",
    "        for j in range(len(result_json['dates'][i]['games'])):\n",
    "            away_sog.append(result_json['dates'][i]['games'][j]['linescore']['teams']['away']['shotsOnGoal'])\n",
    "    season_dict = {'game_date':dates,\n",
    "                  'home_team': home_team,\n",
    "                  'away_team': away_team,\n",
    "                  'home_score': home_score,\n",
    "                  'away_score': away_score,\n",
    "                   'period': periods,\n",
    "                  'home_wins': home_wins,\n",
    "                  'home_losses': home_losses,\n",
    "                  'home_otl': home_otl,\n",
    "                  'away_wins': away_wins,\n",
    "                  'away_losses': away_losses,\n",
    "                  'away_otl': away_otl,\n",
    "                  'home_sog': home_sog,\n",
    "                  'away_sog': away_sog}\n",
    "    df = pd.DataFrame(season_dict)\n",
    "    return df"
   ]
  },
  {
   "cell_type": "code",
   "execution_count": 19,
   "id": "illegal-gardening",
   "metadata": {},
   "outputs": [],
   "source": [
    "season_2019 = season_results(sched2019_result)"
   ]
  },
  {
   "cell_type": "code",
   "execution_count": 22,
   "id": "great-citizen",
   "metadata": {},
   "outputs": [],
   "source": [
    "season_2018 = season_results(sched2018_result)\n",
    "season_2017 = season_results(sched2017_result)"
   ]
  },
  {
   "cell_type": "code",
   "execution_count": 22,
   "id": "practical-preference",
   "metadata": {},
   "outputs": [],
   "source": [
    "season_2015 = season_results(sched2015_result)\n",
    "season_2014 = season_results(sched2014_result)\n",
    "season_2013 = season_results(sched2013_result)\n",
    "season_2012 = season_results(sched2012_result)\n",
    "season_2011 = season_results(sched2011_result)"
   ]
  },
  {
   "cell_type": "code",
   "execution_count": 20,
   "id": "ahead-couple",
   "metadata": {},
   "outputs": [],
   "source": [
    "season_2019.to_csv('game_results_2019.csv',index=False)"
   ]
  },
  {
   "cell_type": "code",
   "execution_count": 24,
   "id": "comic-norman",
   "metadata": {},
   "outputs": [],
   "source": [
    "season_2018.to_csv('game_results_2018.csv',index=False)\n",
    "season_2017.to_csv('game_results_2017.csv',index=False)"
   ]
  },
  {
   "cell_type": "code",
   "execution_count": 23,
   "id": "hawaiian-origin",
   "metadata": {},
   "outputs": [],
   "source": [
    "season_2015.to_csv('game_results_2015.csv',index=False)\n",
    "season_2014.to_csv('game_results_2014.csv',index=False)\n",
    "season_2013.to_csv('game_results_2013.csv',index=False)\n",
    "season_2012.to_csv('game_results_2012.csv',index=False)\n",
    "season_2011.to_csv('game_results_2011.csv',index=False)"
   ]
  },
  {
   "cell_type": "code",
   "execution_count": null,
   "id": "ruled-culture",
   "metadata": {},
   "outputs": [],
   "source": []
  },
  {
   "cell_type": "code",
   "execution_count": null,
   "id": "seventh-isolation",
   "metadata": {},
   "outputs": [],
   "source": []
  },
  {
   "cell_type": "code",
   "execution_count": null,
   "id": "rational-stuff",
   "metadata": {},
   "outputs": [],
   "source": []
  },
  {
   "cell_type": "code",
   "execution_count": null,
   "id": "virtual-blast",
   "metadata": {},
   "outputs": [],
   "source": []
  },
  {
   "cell_type": "code",
   "execution_count": null,
   "id": "opening-token",
   "metadata": {},
   "outputs": [],
   "source": []
  },
  {
   "cell_type": "code",
   "execution_count": null,
   "id": "limited-taiwan",
   "metadata": {},
   "outputs": [],
   "source": []
  },
  {
   "cell_type": "code",
   "execution_count": null,
   "id": "operating-margin",
   "metadata": {},
   "outputs": [],
   "source": []
  },
  {
   "cell_type": "code",
   "execution_count": null,
   "id": "packed-function",
   "metadata": {},
   "outputs": [],
   "source": []
  },
  {
   "cell_type": "code",
   "execution_count": null,
   "id": "smoking-filename",
   "metadata": {},
   "outputs": [],
   "source": []
  },
  {
   "cell_type": "code",
   "execution_count": null,
   "id": "rough-kingston",
   "metadata": {},
   "outputs": [],
   "source": []
  },
  {
   "cell_type": "code",
   "execution_count": null,
   "id": "breathing-address",
   "metadata": {},
   "outputs": [],
   "source": []
  },
  {
   "cell_type": "code",
   "execution_count": null,
   "id": "leading-wayne",
   "metadata": {},
   "outputs": [],
   "source": []
  },
  {
   "cell_type": "code",
   "execution_count": null,
   "id": "color-kentucky",
   "metadata": {},
   "outputs": [],
   "source": []
  },
  {
   "cell_type": "code",
   "execution_count": null,
   "id": "patent-weekend",
   "metadata": {},
   "outputs": [],
   "source": []
  },
  {
   "cell_type": "code",
   "execution_count": null,
   "id": "macro-action",
   "metadata": {},
   "outputs": [],
   "source": []
  },
  {
   "cell_type": "code",
   "execution_count": null,
   "id": "careful-suite",
   "metadata": {},
   "outputs": [],
   "source": []
  },
  {
   "cell_type": "code",
   "execution_count": null,
   "id": "peaceful-scanner",
   "metadata": {},
   "outputs": [],
   "source": []
  },
  {
   "cell_type": "code",
   "execution_count": null,
   "id": "serious-credit",
   "metadata": {},
   "outputs": [],
   "source": []
  },
  {
   "cell_type": "code",
   "execution_count": null,
   "id": "upper-significance",
   "metadata": {},
   "outputs": [],
   "source": []
  },
  {
   "cell_type": "code",
   "execution_count": null,
   "id": "lasting-accident",
   "metadata": {},
   "outputs": [],
   "source": []
  },
  {
   "cell_type": "code",
   "execution_count": null,
   "id": "tired-rings",
   "metadata": {},
   "outputs": [],
   "source": []
  },
  {
   "cell_type": "code",
   "execution_count": null,
   "id": "second-purse",
   "metadata": {},
   "outputs": [],
   "source": []
  },
  {
   "cell_type": "code",
   "execution_count": null,
   "id": "raising-twist",
   "metadata": {},
   "outputs": [],
   "source": []
  },
  {
   "cell_type": "code",
   "execution_count": null,
   "id": "built-governor",
   "metadata": {},
   "outputs": [],
   "source": []
  },
  {
   "cell_type": "code",
   "execution_count": null,
   "id": "august-horizon",
   "metadata": {},
   "outputs": [],
   "source": []
  },
  {
   "cell_type": "code",
   "execution_count": null,
   "id": "empirical-serve",
   "metadata": {},
   "outputs": [],
   "source": []
  },
  {
   "cell_type": "code",
   "execution_count": null,
   "id": "distributed-porter",
   "metadata": {},
   "outputs": [],
   "source": []
  },
  {
   "cell_type": "code",
   "execution_count": null,
   "id": "instructional-glossary",
   "metadata": {},
   "outputs": [],
   "source": []
  },
  {
   "cell_type": "code",
   "execution_count": null,
   "id": "entitled-wallpaper",
   "metadata": {},
   "outputs": [],
   "source": []
  },
  {
   "cell_type": "code",
   "execution_count": null,
   "id": "dramatic-spirit",
   "metadata": {},
   "outputs": [],
   "source": []
  },
  {
   "cell_type": "code",
   "execution_count": null,
   "id": "removable-color",
   "metadata": {},
   "outputs": [],
   "source": []
  },
  {
   "cell_type": "code",
   "execution_count": null,
   "id": "numerical-tuner",
   "metadata": {},
   "outputs": [],
   "source": []
  },
  {
   "cell_type": "code",
   "execution_count": null,
   "id": "familiar-panama",
   "metadata": {},
   "outputs": [],
   "source": []
  },
  {
   "cell_type": "code",
   "execution_count": null,
   "id": "divided-shakespeare",
   "metadata": {},
   "outputs": [],
   "source": []
  },
  {
   "cell_type": "code",
   "execution_count": null,
   "id": "educated-vehicle",
   "metadata": {},
   "outputs": [],
   "source": []
  },
  {
   "cell_type": "code",
   "execution_count": null,
   "id": "polish-courtesy",
   "metadata": {},
   "outputs": [],
   "source": []
  },
  {
   "cell_type": "code",
   "execution_count": null,
   "id": "competitive-gossip",
   "metadata": {},
   "outputs": [],
   "source": []
  },
  {
   "cell_type": "code",
   "execution_count": null,
   "id": "matched-order",
   "metadata": {},
   "outputs": [],
   "source": []
  },
  {
   "cell_type": "code",
   "execution_count": null,
   "id": "protecting-thunder",
   "metadata": {},
   "outputs": [],
   "source": []
  },
  {
   "cell_type": "code",
   "execution_count": null,
   "id": "ethical-society",
   "metadata": {},
   "outputs": [],
   "source": []
  },
  {
   "cell_type": "code",
   "execution_count": null,
   "id": "undefined-converter",
   "metadata": {},
   "outputs": [],
   "source": []
  },
  {
   "cell_type": "code",
   "execution_count": null,
   "id": "intermediate-catch",
   "metadata": {},
   "outputs": [],
   "source": []
  },
  {
   "cell_type": "code",
   "execution_count": null,
   "id": "bibliographic-insider",
   "metadata": {},
   "outputs": [],
   "source": []
  },
  {
   "cell_type": "code",
   "execution_count": null,
   "id": "applied-offer",
   "metadata": {},
   "outputs": [],
   "source": []
  },
  {
   "cell_type": "code",
   "execution_count": null,
   "id": "acting-clerk",
   "metadata": {},
   "outputs": [],
   "source": []
  },
  {
   "cell_type": "code",
   "execution_count": null,
   "id": "partial-university",
   "metadata": {},
   "outputs": [],
   "source": []
  },
  {
   "cell_type": "code",
   "execution_count": null,
   "id": "public-medicine",
   "metadata": {},
   "outputs": [],
   "source": []
  },
  {
   "cell_type": "code",
   "execution_count": null,
   "id": "union-innocent",
   "metadata": {},
   "outputs": [],
   "source": []
  },
  {
   "cell_type": "code",
   "execution_count": null,
   "id": "frequent-format",
   "metadata": {},
   "outputs": [],
   "source": []
  },
  {
   "cell_type": "code",
   "execution_count": null,
   "id": "capable-stack",
   "metadata": {},
   "outputs": [],
   "source": []
  },
  {
   "cell_type": "code",
   "execution_count": null,
   "id": "specified-quantum",
   "metadata": {},
   "outputs": [],
   "source": []
  }
 ],
 "metadata": {
  "kernelspec": {
   "display_name": "Python 3",
   "language": "python",
   "name": "python3"
  },
  "language_info": {
   "codemirror_mode": {
    "name": "ipython",
    "version": 3
   },
   "file_extension": ".py",
   "mimetype": "text/x-python",
   "name": "python",
   "nbconvert_exporter": "python",
   "pygments_lexer": "ipython3",
   "version": "3.8.5"
  }
 },
 "nbformat": 4,
 "nbformat_minor": 5
}
